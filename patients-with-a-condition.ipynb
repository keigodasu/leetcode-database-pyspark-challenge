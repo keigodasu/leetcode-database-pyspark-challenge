{
 "cells": [
  {
   "cell_type": "code",
   "execution_count": 46,
   "metadata": {},
   "outputs": [],
   "source": [
    "from pyspark.sql import SparkSession\n",
    "from pyspark.sql import functions as F\n",
    "from pyspark.sql.types import *\n",
    "spark = SparkSession.builder.appName(\"LeetCode\").getOrCreate()"
   ]
  },
  {
   "cell_type": "code",
   "execution_count": 47,
   "metadata": {},
   "outputs": [],
   "source": [
    "schema = StructType(\n",
    "    [StructField(\"patient_id\", IntegerType()), StructField(\"patient_name\", StringType()),StructField(\"conditions\", StringType())]\n",
    ")"
   ]
  },
  {
   "cell_type": "code",
   "execution_count": 48,
   "metadata": {},
   "outputs": [],
   "source": [
    "data = [\n",
    "      [\n",
    "        1,\n",
    "        \"Daniel\",\n",
    "        \"YFEV COUGH\"\n",
    "      ],\n",
    "      [\n",
    "        2,\n",
    "        \"Alice\",\n",
    "        \"\"\n",
    "      ],\n",
    "      [\n",
    "        3,\n",
    "        \"Bob\",\n",
    "        \"DIAB100 MYOP\"\n",
    "      ],\n",
    "      [\n",
    "        4,\n",
    "        \"George\",\n",
    "        \"ACNE DIAB100\"\n",
    "      ],\n",
    "      [\n",
    "        5,\n",
    "        \"Alain\",\n",
    "        \"DIAB201\"\n",
    "      ]\n",
    "    ]"
   ]
  },
  {
   "cell_type": "code",
   "execution_count": 49,
   "metadata": {},
   "outputs": [],
   "source": [
    "df = spark.createDataFrame(data, schema)"
   ]
  },
  {
   "cell_type": "code",
   "execution_count": 50,
   "metadata": {},
   "outputs": [
    {
     "name": "stdout",
     "output_type": "stream",
     "text": [
      "+----------+------------+------------+\n",
      "|patient_id|patient_name|  conditions|\n",
      "+----------+------------+------------+\n",
      "|         1|      Daniel|  YFEV COUGH|\n",
      "|         2|       Alice|            |\n",
      "|         3|         Bob|DIAB100 MYOP|\n",
      "|         4|      George|ACNE DIAB100|\n",
      "|         5|       Alain|     DIAB201|\n",
      "+----------+------------+------------+\n",
      "\n",
      "root\n",
      " |-- patient_id: integer (nullable = true)\n",
      " |-- patient_name: string (nullable = true)\n",
      " |-- conditions: string (nullable = true)\n",
      "\n"
     ]
    }
   ],
   "source": [
    "df.show()\n",
    "df.printSchema()"
   ]
  },
  {
   "cell_type": "code",
   "execution_count": 51,
   "metadata": {},
   "outputs": [
    {
     "name": "stdout",
     "output_type": "stream",
     "text": [
      "+----------+------------+------------+\n",
      "|patient_id|patient_name|  conditions|\n",
      "+----------+------------+------------+\n",
      "|         3|         Bob|DIAB100 MYOP|\n",
      "|         4|      George|ACNE DIAB100|\n",
      "+----------+------------+------------+\n",
      "\n"
     ]
    }
   ],
   "source": [
    "df = df.where(df.conditions.like('%DIAB1%')).show()"
   ]
  }
 ],
 "metadata": {
  "kernelspec": {
   "display_name": "Python 3",
   "language": "python",
   "name": "python3"
  },
  "language_info": {
   "codemirror_mode": {
    "name": "ipython",
    "version": 3
   },
   "file_extension": ".py",
   "mimetype": "text/x-python",
   "name": "python",
   "nbconvert_exporter": "python",
   "pygments_lexer": "ipython3",
   "version": "3.7.3"
  }
 },
 "nbformat": 4,
 "nbformat_minor": 2
}

