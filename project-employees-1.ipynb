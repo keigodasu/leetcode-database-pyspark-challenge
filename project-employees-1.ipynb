{
 "cells": [
  {
   "cell_type": "code",
   "execution_count": 1,
   "metadata": {},
   "outputs": [],
   "source": [
    "from pyspark.sql import SparkSession\n",
    "from pyspark.sql import functions as F\n",
    "from pyspark.sql.types import *\n",
    "spark = SparkSession.builder.appName(\"LeetCode\").getOrCreate()"
   ]
  },
  {
   "cell_type": "code",
   "execution_count": 5,
   "metadata": {},
   "outputs": [],
   "source": [
    "projectSchema = StructType(\n",
    "    [StructField(\"project_id\", IntegerType()), StructField(\"employee_id\", IntegerType())]\n",
    ")\n",
    "\n",
    "enployeeSchema = StructType(\n",
    "    [StructField(\"employee_id\", IntegerType()), StructField(\"name\", StringType()), StructField(\"experience_years\", IntegerType())]\n",
    ")"
   ]
  },
  {
   "cell_type": "code",
   "execution_count": 6,
   "metadata": {},
   "outputs": [],
   "source": [
    "projectRecords = [\n",
    "  [\n",
    "        1,\n",
    "        1\n",
    "      ],\n",
    "      [\n",
    "        1,\n",
    "        2\n",
    "      ],\n",
    "      [\n",
    "        1,\n",
    "        3\n",
    "      ],\n",
    "      [\n",
    "        2,\n",
    "        1\n",
    "      ],\n",
    "      [\n",
    "        2,\n",
    "        4\n",
    "      ]\n",
    "    ]\n",
    "\n",
    "employeeRecords = [\n",
    "    [\n",
    "        1,\n",
    "        \"Khaled\",\n",
    "        3\n",
    "      ],\n",
    "      [\n",
    "        2,\n",
    "        \"Ali\",\n",
    "        2\n",
    "      ],\n",
    "      [\n",
    "        3,\n",
    "        \"John\",\n",
    "        1\n",
    "      ],\n",
    "      [\n",
    "        4,\n",
    "        \"Doe\",\n",
    "        2\n",
    "      ]\n",
    "]"
   ]
  },
  {
   "cell_type": "code",
   "execution_count": 7,
   "metadata": {},
   "outputs": [],
   "source": [
    "projects = spark.createDataFrame(projectRecords, projectSchema)\n",
    "employees = spark.createDataFrame(employeeRecords, enployeeSchema)"
   ]
  },
  {
   "cell_type": "code",
   "execution_count": 25,
   "metadata": {},
   "outputs": [
    {
     "name": "stdout",
     "output_type": "stream",
     "text": [
      "+----------+-------------+\n",
      "|project_id|average_years|\n",
      "+----------+-------------+\n",
      "|         1|          2.0|\n",
      "|         2|          2.5|\n",
      "+----------+-------------+\n",
      "\n"
     ]
    }
   ],
   "source": [
    "result = projects.join(employees, [\"employee_id\"]).groupBy(\"project_id\").avg(\"experience_years\")\n",
    "result.select(F.col(\"project_id\"), F.col(\"avg(experience_years)\").alias(\"average_years\")).show()"
   ]
  }
 ],
 "metadata": {
  "kernelspec": {
   "display_name": "Python 3",
   "language": "python",
   "name": "python3"
  },
  "language_info": {
   "codemirror_mode": {
    "name": "ipython",
    "version": 3
   },
   "file_extension": ".py",
   "mimetype": "text/x-python",
   "name": "python",
   "nbconvert_exporter": "python",
   "pygments_lexer": "ipython3",
   "version": "3.7.3"
  }
 },
 "nbformat": 4,
 "nbformat_minor": 2
}

