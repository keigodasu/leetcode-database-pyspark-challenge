{
 "cells": [
  {
   "cell_type": "code",
   "execution_count": 24,
   "metadata": {},
   "outputs": [],
   "source": [
    "from pyspark.sql import SparkSession\n",
    "from pyspark.sql import functions as F\n",
    "from pyspark.sql.types import *\n",
    "spark = SparkSession.builder.appName(\"LeetCode\").getOrCreate()"
   ]
  },
  {
   "cell_type": "code",
   "execution_count": 25,
   "metadata": {},
   "outputs": [],
   "source": [
    "product_schema = StructType(\n",
    "    [StructField(\"product_id\", IntegerType()), StructField(\"name\", StringType())]\n",
    ")\n",
    "\n",
    "invoice_schema = StructType(\n",
    "    [StructField(\"invoice_id\", IntegerType()), StructField(\"product_id\", IntegerType()), StructField(\"rest\", IntegerType()), StructField(\"paid\", IntegerType()), StructField(\"canceled\", IntegerType()), StructField(\"refunded\", IntegerType())]\n",
    ")"
   ]
  },
  {
   "cell_type": "code",
   "execution_count": 54,
   "metadata": {},
   "outputs": [],
   "source": [
    "product_records = [\n",
    "      [\n",
    "        0,\n",
    "        \"ham\"\n",
    "      ],\n",
    "      [\n",
    "        1,\n",
    "        \"bacon\"\n",
    "      ]\n",
    "    ]\n",
    "\n",
    "invoice_records = [\n",
    "      [\n",
    "        23,\n",
    "        0,\n",
    "        2,\n",
    "        0,\n",
    "        5,\n",
    "        0\n",
    "      ],\n",
    "      [\n",
    "        12,\n",
    "        0,\n",
    "        0,\n",
    "        4,\n",
    "        0,\n",
    "        3\n",
    "      ],\n",
    "      [\n",
    "        1,\n",
    "        1,\n",
    "        1,\n",
    "        1,\n",
    "        0,\n",
    "        1\n",
    "      ],\n",
    "      [\n",
    "        2,\n",
    "        1,\n",
    "        1,\n",
    "        0,\n",
    "        1,\n",
    "        1\n",
    "      ],\n",
    "      [\n",
    "        3,\n",
    "        1,\n",
    "        0,\n",
    "        1,\n",
    "        1,\n",
    "        1\n",
    "      ],\n",
    "      [\n",
    "        4,\n",
    "        1,\n",
    "        1,\n",
    "        1,\n",
    "        1,\n",
    "        0\n",
    "      ]\n",
    "    ]"
   ]
  },
  {
   "cell_type": "code",
   "execution_count": 27,
   "metadata": {},
   "outputs": [],
   "source": [
    "products = spark.createDataFrame(product_records, product_schema)\n",
    "invoices = spark.createDataFrame(invoice_records, invoice_schema)"
   ]
  },
  {
   "cell_type": "code",
   "execution_count": 56,
   "metadata": {},
   "outputs": [
    {
     "name": "stdout",
     "output_type": "stream",
     "text": [
      "+-----+----+----+--------+--------+\n",
      "| name|rest|paid|canceled|refunded|\n",
      "+-----+----+----+--------+--------+\n",
      "|bacon|   3|   3|       3|       3|\n",
      "|  ham|   2|   4|       5|       3|\n",
      "+-----+----+----+--------+--------+\n",
      "\n"
     ]
    }
   ],
   "source": [
    "invoice_groupby_product_id = invoices.groupBy(F.col(\"product_id\")).agg(\n",
    "    F.sum(\"rest\").alias(\"rest\"), \n",
    "    F.sum(\"paid\").alias(\"paid\"),\n",
    "    F.sum(\"canceled\").alias(\"canceled\"),\n",
    "    F.sum(\"refunded\").alias(\"refunded\")\n",
    ").join(products, [\"product_id\"]).select(\n",
    "    \"name\",\n",
    "    \"rest\",\n",
    "    \"paid\",\n",
    "    \"canceled\",\n",
    "    \"refunded\"\n",
    ").show()"
   ]
  }
 ],
 "metadata": {
  "kernelspec": {
   "display_name": "Python 3",
   "language": "python",
   "name": "python3"
  },
  "language_info": {
   "codemirror_mode": {
    "name": "ipython",
    "version": 3
   },
   "file_extension": ".py",
   "mimetype": "text/x-python",
   "name": "python",
   "nbconvert_exporter": "python",
   "pygments_lexer": "ipython3",
   "version": "3.6.10"
  }
 },
 "nbformat": 4,
 "nbformat_minor": 4
}

