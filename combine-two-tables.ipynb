{
 "cells": [
  {
   "cell_type": "code",
   "execution_count": 1,
   "metadata": {},
   "outputs": [],
   "source": [
    "from pyspark.sql import SparkSession\n",
    "from pyspark.sql import functions as F\n",
    "from pyspark.sql.types import *\n",
    "spark = SparkSession.builder.appName(\"LeetCode\").getOrCreate()"
   ]
  },
  {
   "cell_type": "code",
   "execution_count": 7,
   "metadata": {},
   "outputs": [],
   "source": [
    "personSchema = StructType(\n",
    "    [StructField(\"PersonId\", IntegerType()), StructField(\"FirstName\", StringType()),StructField(\"LastName\", StringType())]\n",
    ")\n",
    "\n",
    "addressSchema = StructType(\n",
    "    [StructField(\"AddressId\", IntegerType()), StructField(\"PersonId\", IntegerType()),StructField(\"City\", StringType()), StructField(\"State\", StringType())]\n",
    ")"
   ]
  },
  {
   "cell_type": "code",
   "execution_count": 8,
   "metadata": {},
   "outputs": [],
   "source": [
    "personRecords = [\n",
    "     [\n",
    "        1,\n",
    "        \"Wang\",\n",
    "        \"Allen\"\n",
    "      ]\n",
    "    ]\n",
    "\n",
    "addressRecords = [\n",
    "     [\n",
    "        1,\n",
    "        2,\n",
    "        \"New York City\",\n",
    "        \"New York\"\n",
    "      ]\n",
    "]"
   ]
  },
  {
   "cell_type": "code",
   "execution_count": 19,
   "metadata": {},
   "outputs": [],
   "source": [
    "persons = spark.createDataFrame(personRecords, personSchema)\n",
    "address = spark.createDataFrame(addressRecords, addressSchema)"
   ]
  },
  {
   "cell_type": "code",
   "execution_count": 25,
   "metadata": {},
   "outputs": [
    {
     "name": "stdout",
     "output_type": "stream",
     "text": [
      "+--------+---------+--------+---------+----+-----+\n",
      "|PersonId|FirstName|LastName|AddressId|City|State|\n",
      "+--------+---------+--------+---------+----+-----+\n",
      "|       1|     Wang|   Allen|     null|null| null|\n",
      "+--------+---------+--------+---------+----+-----+\n",
      "\n"
     ]
    }
   ],
   "source": [
    "result = persons.join(address, [\"PersonId\"], \"outer\").where(F.col(\"FirstName\").isNotNull()).select(\"FirstName\", ?)"
   ]
  }
 ],
 "metadata": {
  "kernelspec": {
   "display_name": "Python 3",
   "language": "python",
   "name": "python3"
  },
  "language_info": {
   "codemirror_mode": {
    "name": "ipython",
    "version": 3
   },
   "file_extension": ".py",
   "mimetype": "text/x-python",
   "name": "python",
   "nbconvert_exporter": "python",
   "pygments_lexer": "ipython3",
   "version": "3.7.3"
  }
 },
 "nbformat": 4,
 "nbformat_minor": 2
}

