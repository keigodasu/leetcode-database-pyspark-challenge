{
 "cells": [
  {
   "cell_type": "code",
   "execution_count": 9,
   "metadata": {},
   "outputs": [],
   "source": [
    "from pyspark.sql import SparkSession\n",
    "from pyspark.sql import functions as F\n",
    "from pyspark.sql.window import Window\n",
    "from pyspark.sql.types import *\n",
    "spark = SparkSession.builder.appName(\"LeetCode\").getOrCreate()"
   ]
  },
  {
   "cell_type": "code",
   "execution_count": 10,
   "metadata": {},
   "outputs": [],
   "source": [
    "employeeSchema = StructType(\n",
    "    [StructField(\"Id\", IntegerType()), StructField(\"Salary\", IntegerType())]\n",
    ")"
   ]
  },
  {
   "cell_type": "code",
   "execution_count": 11,
   "metadata": {},
   "outputs": [],
   "source": [
    "records = [[1, 100], [2, 200], [3, 300]]"
   ]
  },
  {
   "cell_type": "code",
   "execution_count": 21,
   "metadata": {},
   "outputs": [],
   "source": [
    "employees = spark.createDataFrame(records, employeeSchema)"
   ]
  },
  {
   "cell_type": "code",
   "execution_count": 40,
   "metadata": {},
   "outputs": [
    {
     "name": "stdout",
     "output_type": "stream",
     "text": [
      "+-------------------+\n",
      "|SecondHighestSalary|\n",
      "+-------------------+\n",
      "|                200|\n",
      "+-------------------+\n",
      "\n"
     ]
    }
   ],
   "source": [
    "employees.select(F.col(\"Salary\"), F.rank().over(\n",
    "    Window.orderBy(\"Salary\")\n",
    ").alias(\"rnk\")).where(\"rnk = 2\").select(F.col(\"Salary\").alias(\"SecondHighestSalary\")).show()"
   ]
  }
 ],
 "metadata": {
  "kernelspec": {
   "display_name": "Python 3",
   "language": "python",
   "name": "python3"
  },
  "language_info": {
   "codemirror_mode": {
    "name": "ipython",
    "version": 3
   },
   "file_extension": ".py",
   "mimetype": "text/x-python",
   "name": "python",
   "nbconvert_exporter": "python",
   "pygments_lexer": "ipython3",
   "version": "3.6.10"
  }
 },
 "nbformat": 4,
 "nbformat_minor": 4
}

